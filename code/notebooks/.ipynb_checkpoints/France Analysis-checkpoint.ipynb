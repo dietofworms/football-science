{
 "cells": [
  {
   "cell_type": "markdown",
   "metadata": {},
   "source": [
    "# France's Effectiveness in Attack"
   ]
  },
  {
   "cell_type": "code",
   "execution_count": 5,
   "metadata": {},
   "outputs": [],
   "source": [
    "# import relevant libraries\n",
    "%matplotlib inline\n",
    "import json\n",
    "import matplotlib\n",
    "from pandas.io.json import json_normalize\n",
    "import numpy as np\n",
    "import seaborn as sns\n",
    "import pandas as pd\n",
    "import os\n",
    "from pathlib import Path\n",
    "import matplotlib.pyplot as plt\n",
    "from matplotlib.patches import Arc, Rectangle, ConnectionPatch\n",
    "from matplotlib.offsetbox import  OffsetImage\n",
    "import squarify\n",
    "from functools import reduce"
   ]
  },
  {
   "cell_type": "markdown",
   "metadata": {},
   "source": [
    "## Draw the pitch"
   ]
  },
  {
   "cell_type": "code",
   "execution_count": 6,
   "metadata": {},
   "outputs": [],
   "source": [
    "def draw_pitch(ax):\n",
    "    # size of the pitch is 120, 80\n",
    "    #Create figure\n",
    "\n",
    "    #Pitch Outline & Centre Line\n",
    "    plt.plot([0,0],[0,80], color=\"black\")\n",
    "    plt.plot([0,120],[80,80], color=\"black\")\n",
    "    plt.plot([120,120],[80,0], color=\"black\")\n",
    "    plt.plot([120,0],[0,0], color=\"black\")\n",
    "    plt.plot([60,60],[0,80], color=\"black\")\n",
    "\n",
    "    #Left Penalty Area\n",
    "    plt.plot([14.6,14.6],[57.8,22.2],color=\"black\")\n",
    "    plt.plot([0,14.6],[57.8,57.8],color=\"black\")\n",
    "    plt.plot([0,14.6],[22.2,22.2],color=\"black\")\n",
    "\n",
    "    #Right Penalty Area\n",
    "    plt.plot([120,105.4],[57.8,57.8],color=\"black\")\n",
    "    plt.plot([105.4,105.4],[57.8,22.5],color=\"black\")\n",
    "    plt.plot([120, 105.4],[22.5,22.5],color=\"black\")\n",
    "\n",
    "    #Left 6-yard Box\n",
    "    plt.plot([0,4.9],[48,48],color=\"black\")\n",
    "    plt.plot([4.9,4.9],[48,32],color=\"black\")\n",
    "    plt.plot([0,4.9],[32,32],color=\"black\")\n",
    "\n",
    "    #Right 6-yard Box\n",
    "    plt.plot([120,115.1],[48,48],color=\"black\")\n",
    "    plt.plot([115.1,115.1],[48,32],color=\"black\")\n",
    "    plt.plot([120,115.1],[32,32],color=\"black\")\n",
    "\n",
    "    #Prepare Circles\n",
    "    centreCircle = plt.Circle((60,40),8.1,color=\"black\",fill=False)\n",
    "    centreSpot = plt.Circle((60,40),0.71,color=\"black\")\n",
    "    leftPenSpot = plt.Circle((9.7,40),0.71,color=\"black\")\n",
    "    rightPenSpot = plt.Circle((110.3,40),0.71,color=\"black\")\n",
    "\n",
    "    #Draw Circles\n",
    "    ax.add_patch(centreCircle)\n",
    "    ax.add_patch(centreSpot)\n",
    "    ax.add_patch(leftPenSpot)\n",
    "    ax.add_patch(rightPenSpot)\n",
    "\n",
    "    #Prepare Arcs\n",
    "    # arguments for arc\n",
    "    # x, y coordinate of centerpoint of arc\n",
    "    # width, height as arc might not be circle, but oval\n",
    "    # angle: degree of rotation of the shape, anti-clockwise\n",
    "    # theta1, theta2, start and end location of arc in degree\n",
    "    leftArc = Arc((9.7,40),height=16.2,width=16.2,angle=0,theta1=310,theta2=50,color=\"black\")\n",
    "    rightArc = Arc((110.3,40),height=16.2,width=16.2,angle=0,theta1=130,theta2=230,color=\"black\")\n",
    "\n",
    "    #Draw Arcs\n",
    "    ax.add_patch(leftArc)\n",
    "    ax.add_patch(rightArc)  "
   ]
  },
  {
   "cell_type": "markdown",
   "metadata": {},
   "source": [
    "## Plotting all shots"
   ]
  },
  {
   "cell_type": "code",
   "execution_count": 7,
   "metadata": {},
   "outputs": [],
   "source": [
    "data_id = [7546, 7563, 8655, 8658, 7530, 7580, 8649]\n",
    "\n",
    "directory = '/Users/steven/Documents/Developer/data_science/football/data/raw/'\n",
    "\n",
    "# consequently read the json and concatenate into a pre-defined dataframe\n",
    "all_france = pd.DataFrame()\n",
    "for i in data_id:\n",
    "    with open(directory + str(i) + '.json') as data_file:\n",
    "        data = json.load(data_file)\n",
    "    df = json_normalize(data, sep = '_')\n",
    "    if all_france.empty:\n",
    "        all_france = df\n",
    "    else:\n",
    "        all_france = pd.concat([all_france, df], join = 'outer', sort = False)"
   ]
  },
  {
   "cell_type": "code",
   "execution_count": 8,
   "metadata": {},
   "outputs": [
    {
     "data": {
      "image/png": "[encoded data removed]",
      "text/plain": [
       "<Figure size 504x360 with 1 Axes>"
      ]
     },
     "metadata": {
      "needs_background": "light"
     },
     "output_type": "display_data"
    }
   ],
   "source": [
    "shot_data = all_france[(all_france['type_name'] == \"Shot\") & (all_france['team_name'] == 'France')]\n",
    "\n",
    "fig=plt.figure()\n",
    "fig.set_size_inches(7, 5)\n",
    "ax=fig.add_subplot(1,1,1)\n",
    "draw_pitch(ax)\n",
    "plt.axis('off')\n",
    "\n",
    "for i in range(len(shot_data)):\n",
    "    # can also differentiate different half by different color\n",
    "    color = \"red\" if shot_data.iloc[i]['shot_outcome_name'] == \"Goal\" else \"black\"\n",
    "    ax.annotate(\"\", xy = (shot_data.iloc[i]['shot_end_location'][0], shot_data.iloc[i]['shot_end_location'][1]), xycoords = 'data',\n",
    "           xytext = (shot_data.iloc[i]['location'][0], shot_data.iloc[i]['location'][1]), textcoords = 'data',\n",
    "           arrowprops=dict(arrowstyle=\"->\",connectionstyle=\"arc3\", color = color),)\n",
    "plt.ylim(0, 80)\n",
    "plt.xlim(0, 120)\n",
    "plt.show()"
   ]
  },
  {
   "cell_type": "markdown",
   "metadata": {},
   "source": [
    "### The plot is not terribly useful but we can see that a majority of the French goals came from inside the 6-yard boxes. Even though they attempted a lot of long-range efforts, only three found the back of the net, including the stunner by Pavard during the semi-final "
   ]
  },
  {
   "cell_type": "code",
   "execution_count": 9,
   "metadata": {},
   "outputs": [],
   "source": [
    "def draw_half_pitch(ax):\n",
    "    # focus on only half of the pitch\n",
    "    #Pitch Outline & Centre Line\n",
    "    Pitch = Rectangle([60,0], width = 60, height = 80, fill = False)\n",
    "    \n",
    "    #Right Penalty Area\n",
    "    RightPenalty = Rectangle([105.4,22.3], width = 14.6, height = 35.3, fill = False)\n",
    "\n",
    "    #Right 6-yard Box\n",
    "    RightSixYard = Rectangle([115.1,32], width = 4.9, height = 16, fill = False)\n",
    "\n",
    "\n",
    "    #Prepare Circles\n",
    "    centreCircle = Arc((60,40),width = 8.1, height = 8.1, angle=0,theta1=270,theta2=90,color=\"black\")\n",
    "    centreSpot = plt.Circle((60,40),0.71,color=\"black\")\n",
    "    rightPenSpot = plt.Circle((110.3,40),0.71,color=\"black\")\n",
    "    rightArc = Arc((110.3,40),height=16.2,width=16.2,angle=0,theta1=130,theta2=230,color=\"black\")\n",
    "    \n",
    "    element = [Pitch, RightPenalty, RightSixYard, centreCircle, centreSpot, rightPenSpot, rightArc]\n",
    "    for i in element:\n",
    "        ax.add_patch(i)"
   ]
  },
  {
   "cell_type": "code",
   "execution_count": 10,
   "metadata": {},
   "outputs": [
    {
     "data": {
      "image/png": "[encoded data removed]",
      "text/plain": [
       "<Figure size 504x360 with 1 Axes>"
      ]
     },
     "metadata": {
      "needs_background": "light"
     },
     "output_type": "display_data"
    }
   ],
   "source": [
    "fig=plt.figure()\n",
    "fig.set_size_inches(7, 5)\n",
    "ax=fig.add_subplot(1,1,1)\n",
    "draw_half_pitch(ax)\n",
    "plt.axis('off')\n",
    "\n",
    "# draw the scatter plot for goals\n",
    "x_coord_goal = [location[0] for i, location in enumerate(shot_data[\"location\"]) if shot_data.iloc[i]['shot_outcome_name'] == \"Goal\"]\n",
    "y_coord_goal = [location[1] for i, location in enumerate(shot_data[\"location\"]) if shot_data.iloc[i]['shot_outcome_name'] == \"Goal\"]\n",
    "\n",
    "# shots that end up with no goal\n",
    "x_coord = [location[0] for i, location in enumerate(shot_data[\"location\"]) if shot_data.iloc[i]['shot_outcome_name'] != \"Goal\"]\n",
    "y_coord = [location[1] for i, location in enumerate(shot_data[\"location\"]) if shot_data.iloc[i]['shot_outcome_name'] != \"Goal\"]\n",
    "\n",
    "# put the two scatter plots on to the pitch\n",
    "ax.scatter(x_coord_goal, y_coord_goal, c = 'red', label = 'goal')\n",
    "ax.scatter(x_coord, y_coord, c = 'blue', label = 'shots')\n",
    "plt.ylim(0, 80)\n",
    "plt.xlim(0, 120)\n",
    "plt.legend(loc='upper right')\n",
    "plt.axis('off')\n",
    "plt.show()"
   ]
  },
  {
   "cell_type": "code",
   "execution_count": 11,
   "metadata": {},
   "outputs": [
    {
     "data": {
      "image/png": "[encoded data removed]",
      "text/plain": [
       "<Figure size 504x360 with 3 Axes>"
      ]
     },
     "metadata": {
      "needs_background": "light"
     },
     "output_type": "display_data"
    }
   ],
   "source": [
    "# we use a joint plot to see the density of the shot distribution across the 2 axes of the pitch\n",
    "joint_shot_chart = sns.jointplot(x_coord, y_coord, stat_func=None,\n",
    "                                 kind='scatter', space=0, alpha=0.5)\n",
    "joint_shot_chart.fig.set_size_inches(7,5)\n",
    "ax = joint_shot_chart.ax_joint\n",
    "\n",
    "# overlaying the plot with a pitch\n",
    "draw_half_pitch(ax)\n",
    "ax.set_xlim(0.5,120.5)\n",
    "ax.set_ylim(0.5,80.5)\n",
    "\n",
    "# draw the scatter plot for goals\n",
    "x_coord_goal = [location[0] for i, location in enumerate(shot_data[\"location\"]) if shot_data.iloc[i]['shot_outcome_name'] == \"Goal\"]\n",
    "y_coord_goal = [location[1] for i, location in enumerate(shot_data[\"location\"]) if shot_data.iloc[i]['shot_outcome_name'] == \"Goal\"]\n",
    "\n",
    "# shots that end up with no goal\n",
    "x_coord = [location[0] for i, location in enumerate(shot_data[\"location\"]) if shot_data.iloc[i]['shot_outcome_name'] != \"Goal\"]\n",
    "y_coord = [location[1] for i, location in enumerate(shot_data[\"location\"]) if shot_data.iloc[i]['shot_outcome_name'] != \"Goal\"]\n",
    "\n",
    "# put the two scatter plots on to the pitch\n",
    "ax.scatter(x_coord, y_coord, c = 'b', label = 'shots')\n",
    "ax.scatter(x_coord_goal, y_coord_goal, c = 'r', label = 'goal')\n",
    "\n",
    "# Get rid of axis labels and tick marks\n",
    "ax.set_xlabel('')\n",
    "ax.set_ylabel('')\n",
    "joint_shot_chart.ax_marg_x.set_axis_off()\n",
    "ax.set_axis_off()\n",
    "plt.ylim(-.5, 80)\n",
    "plt.axis('off')\n",
    "plt.show()"
   ]
  },
  {
   "cell_type": "markdown",
   "metadata": {},
   "source": [
    "## Tree Map for Germany's Matches"
   ]
  },
  {
   "cell_type": "markdown",
   "metadata": {},
   "source": [
    "Similarly, first we read all the Germany matches detail into the same dataframe"
   ]
  },
  {
   "cell_type": "code",
   "execution_count": 12,
   "metadata": {},
   "outputs": [],
   "source": [
    "data_id = [7567, 7534, 7551]\n",
    "\n",
    "directory = '/Users/steven/Documents/Developer/data_science/football/data/raw/'\n",
    "\n",
    "# consequently read the json and concatenate into a pre-defined dataframe\n",
    "germany_all = pd.DataFrame()\n",
    "\n",
    "for i in data_id:\n",
    "    with open(directory + str(i) + '.json') as data_file:\n",
    "        data = json.load(data_file)\n",
    "    df = json_normalize(data, sep = '_')\n",
    "    if all_france.empty:\n",
    "        germany_all = df\n",
    "    else:\n",
    "        germany_all = pd.concat([germany_all, df], join = 'outer', sort = False)"
   ]
  },
  {
   "cell_type": "code",
   "execution_count": 13,
   "metadata": {},
   "outputs": [],
   "source": [
    "germany_all = germany_all[germany_all.team_name == \"Germany\"]"
   ]
  },
  {
   "cell_type": "markdown",
   "metadata": {},
   "source": [
    "Let's say we are interested in the following statistics per player across the tournament\n",
    "- Total number of dribbles\n",
    "- Total number of completed dribbles\n",
    "- Total number of passes\n",
    "- Total number of failed passes\n",
    "- Total number of dispossession"
   ]
  },
  {
   "cell_type": "code",
   "execution_count": 14,
   "metadata": {},
   "outputs": [],
   "source": [
    "# count total number of dribble\n",
    "total_dribble = germany_all.groupby('player_name')['type_name'].apply(lambda x:(x=='Dribble').sum()).reset_index(name='total_dribble')\n",
    "# number of dribble completed\n",
    "dribble_complete= germany_all.groupby('player_name')['dribble_outcome_name'].apply(lambda x: (x=='Complete').sum()).reset_index(name='dribble_completed')\n",
    "# total number of pass\n",
    "total_pass = germany_all.groupby('player_name')['type_name'].apply(lambda x: (x=='Pass').sum()).reset_index(name='total_pass')\n",
    "# number of incomplete pass\n",
    "pass_incomplete = germany_all.groupby('player_name')['pass_outcome_name'].count().reset_index(name='incomplete_pass')\n",
    "# number of times being dispossessed\n",
    "dispossessed = germany_all.groupby('player_name')['type_name'].apply(lambda x: (x=='Dispossessed').sum()).reset_index(name='dispossessed')"
   ]
  },
  {
   "cell_type": "code",
   "execution_count": 15,
   "metadata": {},
   "outputs": [
    {
     "data": {
      "text/html": [
       "<div>\n",
       "<style scoped>\n",
       "    .dataframe tbody tr th:only-of-type {\n",
       "        vertical-align: middle;\n",
       "    }\n",
       "\n",
       "    .dataframe tbody tr th {\n",
       "        vertical-align: top;\n",
       "    }\n",
       "\n",
       "    .dataframe thead th {\n",
       "        text-align: right;\n",
       "    }\n",
       "</style>\n",
       "<table border=\"1\" class=\"dataframe\">\n",
       "  <thead>\n",
       "    <tr style=\"text-align: right;\">\n",
       "      <th></th>\n",
       "      <th>player_name</th>\n",
       "      <th>total_dribble</th>\n",
       "      <th>dribble_completed</th>\n",
       "      <th>total_pass</th>\n",
       "      <th>incomplete_pass</th>\n",
       "      <th>dispossessed</th>\n",
       "    </tr>\n",
       "  </thead>\n",
       "  <tbody>\n",
       "    <tr>\n",
       "      <th>0</th>\n",
       "      <td>Antonio Rüdiger</td>\n",
       "      <td>0</td>\n",
       "      <td>0</td>\n",
       "      <td>86</td>\n",
       "      <td>6</td>\n",
       "      <td>1</td>\n",
       "    </tr>\n",
       "    <tr>\n",
       "      <th>1</th>\n",
       "      <td>Jonas Hector</td>\n",
       "      <td>2</td>\n",
       "      <td>1</td>\n",
       "      <td>107</td>\n",
       "      <td>16</td>\n",
       "      <td>0</td>\n",
       "    </tr>\n",
       "    <tr>\n",
       "      <th>2</th>\n",
       "      <td>Joshua Kimmich</td>\n",
       "      <td>2</td>\n",
       "      <td>1</td>\n",
       "      <td>265</td>\n",
       "      <td>47</td>\n",
       "      <td>0</td>\n",
       "    </tr>\n",
       "    <tr>\n",
       "      <th>3</th>\n",
       "      <td>Julian Brandt</td>\n",
       "      <td>3</td>\n",
       "      <td>1</td>\n",
       "      <td>25</td>\n",
       "      <td>2</td>\n",
       "      <td>0</td>\n",
       "    </tr>\n",
       "    <tr>\n",
       "      <th>4</th>\n",
       "      <td>Julian Draxler</td>\n",
       "      <td>7</td>\n",
       "      <td>5</td>\n",
       "      <td>81</td>\n",
       "      <td>9</td>\n",
       "      <td>2</td>\n",
       "    </tr>\n",
       "    <tr>\n",
       "      <th>5</th>\n",
       "      <td>Jérôme Boateng</td>\n",
       "      <td>0</td>\n",
       "      <td>0</td>\n",
       "      <td>184</td>\n",
       "      <td>22</td>\n",
       "      <td>2</td>\n",
       "    </tr>\n",
       "    <tr>\n",
       "      <th>6</th>\n",
       "      <td>Leon Goretzka</td>\n",
       "      <td>1</td>\n",
       "      <td>1</td>\n",
       "      <td>22</td>\n",
       "      <td>2</td>\n",
       "      <td>0</td>\n",
       "    </tr>\n",
       "    <tr>\n",
       "      <th>7</th>\n",
       "      <td>Manuel Neuer</td>\n",
       "      <td>2</td>\n",
       "      <td>1</td>\n",
       "      <td>79</td>\n",
       "      <td>11</td>\n",
       "      <td>0</td>\n",
       "    </tr>\n",
       "    <tr>\n",
       "      <th>8</th>\n",
       "      <td>Marco Reus</td>\n",
       "      <td>2</td>\n",
       "      <td>1</td>\n",
       "      <td>126</td>\n",
       "      <td>23</td>\n",
       "      <td>1</td>\n",
       "    </tr>\n",
       "    <tr>\n",
       "      <th>9</th>\n",
       "      <td>Mario Gómez García</td>\n",
       "      <td>0</td>\n",
       "      <td>0</td>\n",
       "      <td>13</td>\n",
       "      <td>6</td>\n",
       "      <td>0</td>\n",
       "    </tr>\n",
       "    <tr>\n",
       "      <th>10</th>\n",
       "      <td>Marvin Plattenhardt</td>\n",
       "      <td>0</td>\n",
       "      <td>0</td>\n",
       "      <td>24</td>\n",
       "      <td>4</td>\n",
       "      <td>0</td>\n",
       "    </tr>\n",
       "    <tr>\n",
       "      <th>11</th>\n",
       "      <td>Mats Hummels</td>\n",
       "      <td>2</td>\n",
       "      <td>2</td>\n",
       "      <td>105</td>\n",
       "      <td>9</td>\n",
       "      <td>1</td>\n",
       "    </tr>\n",
       "    <tr>\n",
       "      <th>12</th>\n",
       "      <td>Mesut Özil</td>\n",
       "      <td>10</td>\n",
       "      <td>7</td>\n",
       "      <td>173</td>\n",
       "      <td>22</td>\n",
       "      <td>4</td>\n",
       "    </tr>\n",
       "    <tr>\n",
       "      <th>13</th>\n",
       "      <td>Niklas Süle</td>\n",
       "      <td>0</td>\n",
       "      <td>0</td>\n",
       "      <td>86</td>\n",
       "      <td>8</td>\n",
       "      <td>1</td>\n",
       "    </tr>\n",
       "    <tr>\n",
       "      <th>14</th>\n",
       "      <td>Sami Khedira</td>\n",
       "      <td>2</td>\n",
       "      <td>2</td>\n",
       "      <td>100</td>\n",
       "      <td>17</td>\n",
       "      <td>4</td>\n",
       "    </tr>\n",
       "    <tr>\n",
       "      <th>15</th>\n",
       "      <td>Sebastian Rudy</td>\n",
       "      <td>0</td>\n",
       "      <td>0</td>\n",
       "      <td>17</td>\n",
       "      <td>0</td>\n",
       "      <td>1</td>\n",
       "    </tr>\n",
       "    <tr>\n",
       "      <th>16</th>\n",
       "      <td>Thomas Müller</td>\n",
       "      <td>3</td>\n",
       "      <td>1</td>\n",
       "      <td>113</td>\n",
       "      <td>31</td>\n",
       "      <td>0</td>\n",
       "    </tr>\n",
       "    <tr>\n",
       "      <th>17</th>\n",
       "      <td>Timo Werner</td>\n",
       "      <td>5</td>\n",
       "      <td>3</td>\n",
       "      <td>90</td>\n",
       "      <td>30</td>\n",
       "      <td>3</td>\n",
       "    </tr>\n",
       "    <tr>\n",
       "      <th>18</th>\n",
       "      <td>Toni Kroos</td>\n",
       "      <td>5</td>\n",
       "      <td>5</td>\n",
       "      <td>323</td>\n",
       "      <td>31</td>\n",
       "      <td>0</td>\n",
       "    </tr>\n",
       "    <tr>\n",
       "      <th>19</th>\n",
       "      <td>İlkay Gündoğan</td>\n",
       "      <td>0</td>\n",
       "      <td>0</td>\n",
       "      <td>51</td>\n",
       "      <td>4</td>\n",
       "      <td>2</td>\n",
       "    </tr>\n",
       "  </tbody>\n",
       "</table>\n",
       "</div>"
      ],
      "text/plain": [
       "            player_name  total_dribble  dribble_completed  total_pass  \\\n",
       "0       Antonio Rüdiger              0                  0          86   \n",
       "1          Jonas Hector              2                  1         107   \n",
       "2        Joshua Kimmich              2                  1         265   \n",
       "3         Julian Brandt              3                  1          25   \n",
       "4        Julian Draxler              7                  5          81   \n",
       "5        Jérôme Boateng              0                  0         184   \n",
       "6         Leon Goretzka              1                  1          22   \n",
       "7          Manuel Neuer              2                  1          79   \n",
       "8            Marco Reus              2                  1         126   \n",
       "9    Mario Gómez García              0                  0          13   \n",
       "10  Marvin Plattenhardt              0                  0          24   \n",
       "11         Mats Hummels              2                  2         105   \n",
       "12           Mesut Özil             10                  7         173   \n",
       "13          Niklas Süle              0                  0          86   \n",
       "14         Sami Khedira              2                  2         100   \n",
       "15       Sebastian Rudy              0                  0          17   \n",
       "16        Thomas Müller              3                  1         113   \n",
       "17          Timo Werner              5                  3          90   \n",
       "18           Toni Kroos              5                  5         323   \n",
       "19       İlkay Gündoğan              0                  0          51   \n",
       "\n",
       "    incomplete_pass  dispossessed  \n",
       "0                 6             1  \n",
       "1                16             0  \n",
       "2                47             0  \n",
       "3                 2             0  \n",
       "4                 9             2  \n",
       "5                22             2  \n",
       "6                 2             0  \n",
       "7                11             0  \n",
       "8                23             1  \n",
       "9                 6             0  \n",
       "10                4             0  \n",
       "11                9             1  \n",
       "12               22             4  \n",
       "13                8             1  \n",
       "14               17             4  \n",
       "15                0             1  \n",
       "16               31             0  \n",
       "17               30             3  \n",
       "18               31             0  \n",
       "19                4             2  "
      ]
     },
     "execution_count": 15,
     "metadata": {},
     "output_type": "execute_result"
    }
   ],
   "source": [
    "df_list = [total_dribble, dribble_complete, total_pass, pass_incomplete, dispossessed]\n",
    "summary_data = reduce(lambda x, y: pd.merge(x, y, on = 'player_name'), df_list)\n",
    "summary_data"
   ]
  },
  {
   "cell_type": "code",
   "execution_count": 16,
   "metadata": {},
   "outputs": [
    {
     "data": {
      "image/png": "[encoded data removed]",
      "text/plain": [
       "<Figure size 1152x324 with 1 Axes>"
      ]
     },
     "metadata": {
      "needs_background": "light"
     },
     "output_type": "display_data"
    }
   ],
   "source": [
    "# new dataframe, containing only players with more than 50 passes\n",
    "dataPass = summary_data[summary_data[\"total_pass\"] > 50]\n",
    "\n",
    "# utilise matplotlib to scale our goal numbers between the min and max, then assign this scale to our values.\n",
    "norm = matplotlib.colors.Normalize(vmin=min(dataPass.total_pass), vmax=max(dataPass.total_pass))\n",
    "colors = [matplotlib.cm.Blues(norm(value)) for value in dataPass.total_pass]\n",
    "\n",
    "# create our plot and resize it.\n",
    "fig = plt.gcf()\n",
    "ax = fig.add_subplot()\n",
    "fig.set_size_inches(16, 4.5)\n",
    "\n",
    "# use squarify to plot our data, label it and add colours. We add an alpha layer to ensure black labels show through\n",
    "squarify.plot(label = dataPass.player_name, sizes = dataPass.total_pass, color = colors, alpha = .6)\n",
    "plt.title(\"\\n Passing data \\n\", fontsize = 23, fontweight = \"bold\")\n",
    "\n",
    "# remove our axes and display the plot\n",
    "plt.axis('off')\n",
    "plt.show()"
   ]
  },
  {
   "cell_type": "code",
   "execution_count": 17,
   "metadata": {
    "scrolled": true
   },
   "outputs": [
    {
     "data": {
      "image/png": "[encoded data removed]",
      "text/plain": [
       "<Figure size 1152x324 with 1 Axes>"
      ]
     },
     "metadata": {
      "needs_background": "light"
     },
     "output_type": "display_data"
    }
   ],
   "source": [
    "dataDribble= summary_data[summary_data[\"total_dribble\"]>0]\n",
    "#Utilise matplotlib to scale our goal numbers between the min and max, then assign this scale to our values.\n",
    "norm = matplotlib.colors.Normalize(vmin=min(dataDribble.total_dribble), vmax=max(dataDribble.total_dribble))\n",
    "colors = [matplotlib.cm.Blues(norm(value)) for value in dataDribble.total_dribble]\n",
    "\n",
    "#Create our plot and resize it.\n",
    "fig = plt.gcf()\n",
    "ax = fig.add_subplot()\n",
    "fig.set_size_inches(16, 4.5)\n",
    "\n",
    "#Use squarify to plot our data, label it and add colours. We add an alpha layer to ensure black labels show through\n",
    "squarify.plot(label=dataDribble.player_name,sizes=dataDribble.total_dribble, color = colors, alpha=.6)\n",
    "plt.title(\"\\n Total dribble \\n\",fontsize=23,fontweight=\"bold\")\n",
    "\n",
    "#Remove our axes and display the plot\n",
    "plt.axis('off')\n",
    "plt.show()"
   ]
  }
 ],
 "metadata": {
  "kernelspec": {
   "display_name": "Python 3",
   "language": "python",
   "name": "python3"
  },
  "language_info": {
   "codemirror_mode": {
    "name": "ipython",
    "version": 3
   },
   "file_extension": ".py",
   "mimetype": "text/x-python",
   "name": "python",
   "nbconvert_exporter": "python",
   "pygments_lexer": "ipython3",
   "version": "3.7.3"
  }
 },
 "nbformat": 4,
 "nbformat_minor": 2
}
